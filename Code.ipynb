{
 "cells": [
  {
   "cell_type": "code",
   "execution_count": 2,
   "metadata": {},
   "outputs": [
    {
     "name": "stdout",
     "output_type": "stream",
     "text": [
      "Mean Squared Error: 0.11752465753424657\n"
     ]
    }
   ],
   "source": [
    "import pandas as pd\n",
    "from sklearn.model_selection import train_test_split\n",
    "from sklearn.ensemble import RandomForestRegressor\n",
    "from sklearn.metrics import mean_squared_error\n",
    "\n",
    "# Load the data\n",
    "train_df = pd.read_csv(r'D:\\SonCode\\Binary_Prediction_with_a_Rainfall_Dataset\\playground-series-s5e3\\train.csv')\n",
    "test_df = pd.read_csv(r'D:\\SonCode\\Binary_Prediction_with_a_Rainfall_Dataset\\playground-series-s5e3\\test.csv')\n",
    "\n",
    "# Separate features and target variable from training data\n",
    "X = train_df.drop(columns=['rainfall'])\n",
    "y = train_df['rainfall']\n",
    "\n",
    "# Split the training data into training and validation sets\n",
    "X_train, X_val, y_train, y_val = train_test_split(X, y, test_size=0.2, random_state=42)\n",
    "\n",
    "# Train a model\n",
    "model = RandomForestRegressor(n_estimators=100, random_state=42)\n",
    "model.fit(X_train, y_train)\n",
    "\n",
    "# Validate the model\n",
    "y_pred = model.predict(X_val)\n",
    "mse = mean_squared_error(y_val, y_pred)\n",
    "print(f'Mean Squared Error: {mse}')\n",
    "\n",
    "# Prepare the test data (drop the 'rainfall' column if it exists)\n",
    "if 'rainfall' in test_df.columns:\n",
    "    X_test = test_df.drop(columns=['rainfall'])\n",
    "else:\n",
    "    X_test = test_df.copy()\n",
    "\n",
    "# Make predictions on the test data\n",
    "test_predictions = model.predict(X_test)\n",
    "\n",
    "# Save the predictions to a CSV file\n",
    "output = pd.DataFrame({'Id': test_df.index, 'rainfall': test_predictions})\n",
    "output.to_csv(r'D:\\SonCode\\Binary_Prediction_with_a_Rainfall_Dataset\\playground-series-s5e3\\submission.csv', index=False)"
   ]
  }
 ],
 "metadata": {
  "kernelspec": {
   "display_name": "base",
   "language": "python",
   "name": "python3"
  },
  "language_info": {
   "codemirror_mode": {
    "name": "ipython",
    "version": 3
   },
   "file_extension": ".py",
   "mimetype": "text/x-python",
   "name": "python",
   "nbconvert_exporter": "python",
   "pygments_lexer": "ipython3",
   "version": "3.12.3"
  }
 },
 "nbformat": 4,
 "nbformat_minor": 2
}
