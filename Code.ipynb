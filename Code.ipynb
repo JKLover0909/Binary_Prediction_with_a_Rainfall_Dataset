{
 "cells": [
  {
   "cell_type": "code",
   "execution_count": 2,
   "metadata": {},
   "outputs": [
    {
     "name": "stdout",
     "output_type": "stream",
     "text": [
      "Mean Squared Error: 0.11752465753424657\n"
     ]
    }
   ],
   "source": [
    "import pandas as pd\n",
    "from sklearn.model_selection import train_test_split\n",
    "from sklearn.ensemble import RandomForestRegressor\n",
    "from sklearn.metrics import mean_squared_error\n",
    "\n",
    "# Load the data\n",
    "train_df = pd.read_csv(r'D:\\SonCode\\Binary_Prediction_with_a_Rainfall_Dataset\\playground-series-s5e3\\train.csv')\n",
    "test_df = pd.read_csv(r'D:\\SonCode\\Binary_Prediction_with_a_Rainfall_Dataset\\playground-series-s5e3\\test.csv')\n",
    "\n",
    "# Separate features and target variable from training data\n",
    "X = train_df.drop(columns=['rainfall'])\n",
    "y = train_df['rainfall']\n",
    "\n",
    "# Split the training data into training and validation sets\n",
    "X_train, X_val, y_train, y_val = train_test_split(X, y, test_size=0.2, random_state=42)\n",
    "\n",
    "# Train a model\n",
    "model = RandomForestRegressor(n_estimators=100, random_state=42)\n",
    "model.fit(X_train, y_train)\n",
    "\n",
    "# Validate the model\n",
    "y_pred = model.predict(X_val)\n",
    "mse = mean_squared_error(y_val, y_pred)\n",
    "print(f'Mean Squared Error: {mse}')\n",
    "\n",
    "# Prepare the test data (drop the 'rainfall' column if it exists)\n",
    "if 'rainfall' in test_df.columns:\n",
    "    X_test = test_df.drop(columns=['rainfall'])\n",
    "else:\n",
    "    X_test = test_df.copy()\n",
    "\n",
    "# Make predictions on the test data\n",
    "test_predictions = model.predict(X_test)\n",
    "\n",
    "# Save the predictions to a CSV file\n",
    "output = pd.DataFrame({'Id': test_df.index, 'rainfall': test_predictions})\n",
    "output.to_csv(r'D:\\SonCode\\Binary_Prediction_with_a_Rainfall_Dataset\\playground-series-s5e3\\submission.csv', index=False)"
   ]
  },
  {
   "cell_type": "code",
   "execution_count": 1,
   "metadata": {},
   "outputs": [],
   "source": [
    "import pandas as pd\n",
    "\n",
    "# Đọc file train.csv\n",
    "df = pd.read_csv('playground-series-s5e3/train.csv')\n",
    "\n",
    "# Loại bỏ dòng header khi chia\n",
    "n = len(df)\n",
    "split_size = n // 3\n",
    "\n",
    "# Chia thành 3 phần\n",
    "df.iloc[:split_size].to_csv('train1.csv', index=False)\n",
    "df.iloc[split_size:2*split_size].to_csv('train2.csv', index=False)\n",
    "df.iloc[2*split_size:].to_csv('train3.csv', index=False)"
   ]
  },
  {
   "cell_type": "code",
   "execution_count": 2,
   "metadata": {},
   "outputs": [
    {
     "name": "stdout",
     "output_type": "stream",
     "text": [
      "Validation Accuracy: 0.8288\n"
     ]
    }
   ],
   "source": [
    "import pandas as pd\n",
    "from catboost import CatBoostClassifier\n",
    "from sklearn.model_selection import train_test_split\n",
    "from sklearn.metrics import accuracy_score\n",
    "\n",
    "# Đọc dữ liệu\n",
    "df = pd.read_csv('train1.csv')\n",
    "\n",
    "# Tách features và target\n",
    "X = df.drop(columns=['rainfall'])\n",
    "y = df['rainfall']\n",
    "\n",
    "# Chia train/test\n",
    "X_train, X_val, y_train, y_val = train_test_split(X, y, test_size=0.2, random_state=42)\n",
    "\n",
    "# Khởi tạo và huấn luyện mô hình CatBoost\n",
    "model = CatBoostClassifier(\n",
    "    iterations=100,\n",
    "    learning_rate=0.1,\n",
    "    depth=6,\n",
    "    verbose=0\n",
    ")\n",
    "model.fit(X_train, y_train)\n",
    "\n",
    "# Đánh giá trên tập validation\n",
    "y_pred = model.predict(X_val)\n",
    "acc = accuracy_score(y_val, y_pred)\n",
    "print(f'Validation Accuracy: {acc:.4f}')\n",
    "\n",
    "# Lưu mô hình\n",
    "model.save_model('catboost_rainfall_model.cbm')"
   ]
  }
 ],
 "metadata": {
  "kernelspec": {
   "display_name": "base",
   "language": "python",
   "name": "python3"
  },
  "language_info": {
   "codemirror_mode": {
    "name": "ipython",
    "version": 3
   },
   "file_extension": ".py",
   "mimetype": "text/x-python",
   "name": "python",
   "nbconvert_exporter": "python",
   "pygments_lexer": "ipython3",
   "version": "3.12.7"
  }
 },
 "nbformat": 4,
 "nbformat_minor": 2
}
